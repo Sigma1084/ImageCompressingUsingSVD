{
  "nbformat": 4,
  "nbformat_minor": 0,
  "metadata": {
    "colab": {
      "name": "SVD.ipynb",
      "provenance": [],
      "collapsed_sections": [],
      "authorship_tag": "ABX9TyOd+iI+8kktVM06zTGFDGb/",
      "include_colab_link": true
    },
    "kernelspec": {
      "name": "python3",
      "display_name": "Python 3"
    },
    "language_info": {
      "name": "python"
    }
  },
  "cells": [
    {
      "cell_type": "markdown",
      "metadata": {
        "id": "view-in-github",
        "colab_type": "text"
      },
      "source": [
        "<a href=\"https://colab.research.google.com/github/Sigma1084/Image-Compressing/blob/master/info.ipynb\" target=\"_parent\"><img src=\"https://colab.research.google.com/assets/colab-badge.svg\" alt=\"Open In Colab\"/></a>"
      ]
    },
    {
      "cell_type": "markdown",
      "source": [
        "# Singular Value Decomposition (SVD)"
      ],
      "metadata": {
        "id": "SlgiXQlN5VNj"
      }
    },
    {
      "cell_type": "markdown",
      "source": [
        "\n",
        "$\\text{Consider a Matrix } A \\in \\mathbb{R}^{m \\times n}$\n",
        "$\\text{We can decompose the matrix into U, } \\Sigma \\text{ and V such that}$\n",
        "$$\n",
        "A = U \\Sigma V^T\n",
        "$$ \n",
        "$\\text{where U and V are orthogonal matrices}$\n",
        "($UU^T = I$ and $VV^T = I$)\n",
        "\n",
        "$\\text{And } \\Sigma \\text{ has only Diagonal Entries }$\n",
        "\n",
        "$$\n",
        "\\Sigma_{m \\times n} = \n",
        "\\begin{bmatrix} \n",
        "    \\sigma_1 & 0 & \\dots & 0 & 0 & \\dots \\\\\n",
        "    0 & \\sigma_2 & \\dots & 0 & 0 & \\dots \\\\\n",
        "    \\vdots & \\vdots & \\ddots & \\vdots & \\vdots & \\vdots \\\\\n",
        "    0 & 0 & \\dots & \\sigma_R & 0 & \\dots \\\\\n",
        "\t0 & 0 & \\dots & 0 & 0 & \\vdots\\\\\n",
        "    \\vdots & \\vdots & \\dots & \\vdots & \\dots & \\ddots \\\\\n",
        "\\end{bmatrix} _{m \\times n} \\\\\n",
        "$$\n",
        "\n",
        "$\\text{The diagonal entries are the eigen values of the matrix A are}$\n",
        "$\\text{arranged in descending order}, \\  \\sigma_1 \\geq \\sigma_2 \\geq \\sigma_3 \\geq \\dots \\geq \\sigma_R$\n",
        "$\\text{where R is the rank of the matrix A}$\n",
        "\n",
        "$\\text{It can be seen that }$\n",
        "$$ A \\ = \\ \\sum_{i = 1}^R\n",
        "\\sigma_i \\mathbf{u_ i v_i^T}  \\\\\n",
        "A \\ = \\ \\sigma_1 \\mathbf{u_ 1 v_1^T} \\ + \\ \\sigma_2 \\mathbf{u_ 2 v_2^T} \\ + \\ \\dots \\ +\n",
        "\\ \\sigma_R \\mathbf{u_ R v_R^T}\n",
        "$$ $\\text{where } \\mathbf{u_i} \\text{ and } \\mathbf{v_i} \\text{ are the } i^{th} \\text{ columns of matrices U and V respectively}$\n",
        "\n"
      ],
      "metadata": {
        "id": "vDWcD1aR5cM6"
      }
    },
    {
      "cell_type": "markdown",
      "source": [
        "## Low Rank Approximation\n"
      ],
      "metadata": {
        "id": "Ge5O9U715jQU"
      }
    },
    {
      "cell_type": "markdown",
      "source": [
        "$\\text{Consider the following problem.}$\n",
        "\n",
        "$A \\in \\mathbb{R}^{m \\times n}, \\text{ rank} (A) = R$\n",
        "\n",
        "$\\text{Find } A_k \\in \\mathbb{R}^{m \\times n}, \\text{ rank} (A_k) \\leq k \\text{ such that}$\n",
        "\n",
        "$||A - A_k|| \\text{ is minimized over some norm}$\n",
        "\n",
        "$\\text{As an optimization problem, we find } A_k \\text{ (for some norm)}$\n",
        "$$\n",
        "\\begin{gather*}\n",
        "\t\\min_{A_k} \\quad & ||A - A_k|| \\\\\n",
        "\t\\text{such that} \\quad & \\text{rank}(A_k) \\leq k\n",
        "\\end{gather*}\n",
        "$$\n"
      ],
      "metadata": {
        "id": "AFlnp04c5mtU"
      }
    },
    {
      "cell_type": "markdown",
      "source": [
        "## SVD as a low rank Approximation"
      ],
      "metadata": {
        "id": "65u9h7l55vdw"
      }
    },
    {
      "cell_type": "markdown",
      "source": [
        "### $\\textbf{Eckart–Young–Mirsky Theorem:}$\n",
        "\n",
        "$\\text{Consider } A \\in \\mathbb{R}^{m \\times n}, \\text{ rank} (A) = R$\n",
        "\n",
        "$\\text{Suppose } A = U \\Sigma V \\text{ where } UU^T = I_m, \\ VV^T = I_n$\n",
        "$\\ \\text{ and } \\Sigma_{R \\times R} \\text{ is a Diagonal Matrix containing the non-zero}$\n",
        "$\\ \\text{ singular values of } A \\text{ in a non-decreasing order.}$\n",
        "\n",
        "$\\text{The, the solution of the Optimization Problem,}$\n",
        "$$\\text{minimize over } A_k \\ \\ \\ \\ \\ \\ \\ \\ ||A - A_k|| \\ \\ \\ \\ \\ \\ \\ \\ \\text{ subject to rank} (A_k) \\leq k \\\\\n",
        "\\text{is given by } A_k \\ = \\ \\sum_{i=1}^k \\sigma_i \\mathbf{u_i v_i^T}\n",
        "$$ $\\text{where } \\mathbf{u_i} \\text{ and } \\mathbf{v_i} \\text{ are the  } i^{th} \\text{ columns of } U \\text{ and } V$"
      ],
      "metadata": {
        "id": "Xv9ioE0w5yz7"
      }
    },
    {
      "cell_type": "markdown",
      "source": [
        "### $\\textbf{Proof}: \\text{(For Frobenius Norm)}$"
      ],
      "metadata": {
        "id": "EhX6eukt6lcE"
      }
    },
    {
      "cell_type": "markdown",
      "source": [
        "\n",
        "$$||A-A_k||_F = ||U\\Sigma V^T - A_k||_F = ||\\Sigma - U^T A_k V ||_F$$\n",
        "\n",
        "$\\text{Suppose } N = U^T A_k V$\n",
        "$$||\\Sigma-N||_F^2 = \\sum_{i, \\ j} |\\Sigma_{ij} - N_{ij}|^2 = \\sum_{i=1}^k |\\sigma_i-N_{ii}|^2+\\sum_{i>k}|\\sigma_i -N_{ii}|^2+\\sum_{i\\neq j} |N_{ij}|^2\n",
        "$$ $\\text{The minimal is achieved when } N_{ii} = \\sigma_i \\ \\forall  \\ i \\leq k \\text{ AND}$\n",
        "\n",
        "$\\text{All the non-diagonal terms of N and}$\n",
        "$\\text{all the diagonals with}$\n",
        "$i>k \\text{ are equal to 0}$\n",
        "\n",
        "$\\text{This implies}$\n",
        "$$\n",
        "A_k \\ = \\ UNV^T \\ = \\ \\sum_{i=1}^k \\sigma_i \\mathbf{u_i v_i^T}\n",
        "$$\n",
        "\n",
        "$\\text{Hence Proved.}$"
      ],
      "metadata": {
        "id": "ulLGT7pV55fA"
      }
    },
    {
      "cell_type": "markdown",
      "source": [
        "### $\\textbf{Proof}: \\text{(For Spectral Norm)}$"
      ],
      "metadata": {
        "id": "AToUBHhK6iNT"
      }
    },
    {
      "cell_type": "markdown",
      "source": [
        "\n",
        "\n",
        "$$\\begin{gather*}\n",
        "\\ & A_k & = &  \\sum_{i=1}^k \\sigma_i \\mathbf{u_i v_i^T} \\\\\n",
        "\\implies & ||A - A_k|| & = & \\left| \\left| \\sum_{i=k+1}^R \\sigma_i \\mathbf{u_i v_i^T} \\right|\\right| _{\\ 2} & = &\\sigma_{k+1} \\\\\n",
        "\\end{gather*}\n",
        "$$ \n",
        "$\\text{Consider some Matrix } B \\text{ such that } \\mathrm{rank}(B) \\leq k$\n",
        "\n",
        "$\\mathrm{rank}(B) \\leq k \\implies \\dim\\mathcal{N} (B) \\geq n-k$\n",
        "\n",
        "$\\text{Suppose } V_{k+1}=[v_1 \\ v_2 \\ \\ldots \\ v_{k+1}] \\text{ and } \\mathcal{R}(V_{k+1}) \\text{ be the range space of } V_k$\n",
        "\n",
        "$\\dim\\mathcal{N}(B) + \\dim\\mathcal{R}(V_{k+1}) \\geq n-k+k+1=n+1$\n",
        "\n",
        "$$\n",
        "\\begin{gather*}\n",
        "\t\\implies & \\exists \\ \\ x\\in\\mathcal{N}(B)\\cap\\mathcal{R}(V_{k+1}) & \\|x\\|_2=1 \\\\\n",
        "\t\\implies & x  = \\gamma_1v_1 \\ + \\ \\gamma_2v_2 \\ + \\ \\dots \\ + \\gamma_{k+1}v_{k+1}, & \\sum_{i=1}^{k+1} \\gamma_i^2 = 1\n",
        "\\end{gather*}\n",
        "$$ \n",
        "$\\text{By definition, }$ \n",
        "\n",
        "$$\n",
        "\\begin{gather*}\n",
        "\t\\ & \\|A-B\\|_2^2 \\ \\|x\\|_2^2 & \\geq & \\|(A-B)x\\|_2^2 \\\\\n",
        "\t\\implies & \\|A-B\\|_2^2 & \\geq & \\|(A-B)x\\|_2^2 \\\\\n",
        "\\end{gather*}\n",
        "$$ \n",
        "\n",
        "$\\mathrm{We \\ know \\ that \\ } Bx=0 \\ \\mathrm{since} \\ x \\in\\mathcal{N}(B)$ \n",
        "\n",
        "$$\n",
        "\\implies \\ \\|(A-B)x\\|_2^2 \\ \\geq \\ \\|Ax\\|_2^2 \\ = \\ \\sum_{i=1}^{k+1}\\sigma_i^2\\gamma_i^2 \\ \\geq \\ \\sigma_{k+1}^2 \\\\ \n",
        "$$ $\\text{This implies}$\n",
        "\n",
        "$$\n",
        "\\|A-B\\|_2^2 \\ \\geq \\ \\sigma_{k+1}^2 \\quad \\forall \\ B \\\\\n",
        "$$ $\\text{In other words, }$\n",
        "\n",
        "$$\n",
        "\\|A-B\\|_2 \\ \\geq \\ \\|A-A_k\\|_2 \\quad \\forall \\ B \\\\\n",
        "$$ $\\text{Hence Proved.}$\n",
        "\n"
      ],
      "metadata": {
        "id": "6oMj5arN58P4"
      }
    }
  ]
}